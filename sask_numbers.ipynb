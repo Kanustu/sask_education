{
 "cells": [
  {
   "cell_type": "code",
   "execution_count": 1,
   "id": "60a39987-5ef2-4524-a082-a8bf49b0cf24",
   "metadata": {},
   "outputs": [],
   "source": [
    "# Import Libraries\n",
    "import pandas as pd\n",
    "# Statistics Canada. Table 18-10-0005-01  Consumer Price Index, annual average, not seasonally adjusted"
   ]
  },
  {
   "cell_type": "code",
   "execution_count": 2,
   "id": "7dbe07fe-3fc5-4545-8005-0dc0bf38cfbe",
   "metadata": {},
   "outputs": [],
   "source": [
    "# Read csv with pandas\n",
    "data = pd.read_csv('studentnumbers.csv')"
   ]
  },
  {
   "cell_type": "code",
   "execution_count": 3,
   "id": "aaaaec27-4b68-4870-b3e0-3f3536913576",
   "metadata": {},
   "outputs": [],
   "source": [
    "# Filter data with pandas\n",
    "data = data[(data['School type'] == 'Public schools') & (data['Program type'] == 'Regular programs for youth')]"
   ]
  },
  {
   "cell_type": "code",
   "execution_count": 4,
   "id": "4996e7cb-9543-4624-be58-d725873a06a3",
   "metadata": {},
   "outputs": [],
   "source": [
    "# Create new dataframe with wanted variables\n",
    "student_pop = data[['REF_DATE', 'VALUE']]"
   ]
  },
  {
   "cell_type": "code",
   "execution_count": 5,
   "id": "3e8e3ccf-b4ea-4f7d-a474-f58df6489e7a",
   "metadata": {},
   "outputs": [],
   "source": [
    "student_pop = student_pop.drop(student_pop.index[:4])"
   ]
  },
  {
   "cell_type": "code",
   "execution_count": 6,
   "id": "c81d45d6-f4b5-4f60-8786-2072a399b9bd",
   "metadata": {},
   "outputs": [],
   "source": [
    "# 2006/2007 - 2011/2012 numbers includes pre-k\n",
    "budget_list = [514133, 502382, 551682, 578771, 582364, 600257, 626871, 757796, 1109494, 1042317, 1136057,\n",
    "               1295567, 1324137, 1337746, 1520452, 1663945, 1500270, 1953658, 1944490, 2021343, 2108692]\n",
    "#2117017,2232780, 2442939"
   ]
  },
  {
   "cell_type": "code",
   "execution_count": 7,
   "id": "bcdff415-6269-402d-8da7-938548b675a2",
   "metadata": {},
   "outputs": [],
   "source": [
    "student_pop['k-12_budget'] = budget_list"
   ]
  },
  {
   "cell_type": "code",
   "execution_count": 8,
   "id": "3cafd6da-c7f0-4adc-9731-d86ab2accc6b",
   "metadata": {},
   "outputs": [],
   "source": [
    "student_pop['$_per_student'] = ((student_pop['k-12_budget'] * 1000) / student_pop['VALUE']).round(2)"
   ]
  },
  {
   "cell_type": "code",
   "execution_count": 9,
   "id": "90c82a33-a1ef-4f05-8a5b-66970f9c12ef",
   "metadata": {},
   "outputs": [],
   "source": [
    "inflation_rate = {2001: 0.0253, 2002: 0.0226, 2003: 0.0276, 2004: 0.0186, 2005: 0.0221, 2006: 0.0200, 2007: 0.0214,\n",
    "                  2008: 0.0237, 2009: 0.0030, 2010: 0.0178, 2011: 0.0291, 2012: 0.0152, 2013: 0.0094, 2014: 0.0191,\n",
    "                  2015: 0.0113, 2016: 0.0143, 2017: 0.0160, 2018: 0.0227, 2019: 0.0195, 2020: 0.0072, 2021: 0.0340,\n",
    "                  2022: 0.0680}"
   ]
  },
  {
   "cell_type": "code",
   "execution_count": 10,
   "id": "93de9b2d-a72f-43dc-86cc-e22d68ee68fa",
   "metadata": {},
   "outputs": [],
   "source": [
    "student_pop.rename(columns={'REF_DATE': 'years', 'VALUE': 'students'}, inplace=True)"
   ]
  },
  {
   "cell_type": "code",
   "execution_count": 15,
   "id": "2fe37fdd-ed95-470a-b07d-a4aa5f8db6fd",
   "metadata": {},
   "outputs": [],
   "source": [
    "cpi = pd.read_csv('cpi.csv')"
   ]
  },
  {
   "cell_type": "code",
   "execution_count": 18,
   "id": "c8e03687-53c1-4504-873b-f0ba3d00d0aa",
   "metadata": {},
   "outputs": [
    {
     "data": {
      "text/plain": [
       "GEO\n",
       "Canada    75\n",
       "Name: count, dtype: int64"
      ]
     },
     "execution_count": 18,
     "metadata": {},
     "output_type": "execute_result"
    }
   ],
   "source": []
  }
 ],
 "metadata": {
  "kernelspec": {
   "display_name": "ava",
   "language": "python",
   "name": "ava"
  },
  "language_info": {
   "codemirror_mode": {
    "name": "ipython",
    "version": 3
   },
   "file_extension": ".py",
   "mimetype": "text/x-python",
   "name": "python",
   "nbconvert_exporter": "python",
   "pygments_lexer": "ipython3",
   "version": "3.10.13"
  }
 },
 "nbformat": 4,
 "nbformat_minor": 5
}
